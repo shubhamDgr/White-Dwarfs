{
 "cells": [
  {
   "cell_type": "code",
   "execution_count": 108,
   "metadata": {},
   "outputs": [],
   "source": [
    "import pandas as pd"
   ]
  },
  {
   "cell_type": "code",
   "execution_count": 109,
   "metadata": {},
   "outputs": [],
   "source": [
    "dz = pd.read_csv(\"E:/Projects/white_dwarf_mass/data/type_DZ.csv\")"
   ]
  },
  {
   "cell_type": "code",
   "execution_count": 110,
   "metadata": {},
   "outputs": [
    {
     "data": {
      "text/plain": [
       "(1300, 53)"
      ]
     },
     "execution_count": 110,
     "metadata": {},
     "output_type": "execute_result"
    }
   ],
   "source": [
    "dz.shape"
   ]
  },
  {
   "cell_type": "code",
   "execution_count": 111,
   "metadata": {},
   "outputs": [],
   "source": [
    "# for column in dz.columns:                      # to get idea how many columns are empty \n",
    "#     empty = dz[column].isna().all()             # turns out 26 columns are empty \n",
    "#     if empty==True:\n",
    "#         print(column)                       #so we will remove them"
   ]
  },
  {
   "cell_type": "code",
   "execution_count": 112,
   "metadata": {},
   "outputs": [],
   "source": [
    "\n",
    "indices_to_drop_dz = []\n",
    "for index, column in enumerate(dz.columns):\n",
    "    if dz[column].isna().all():  # Check if the entire column is NaN\n",
    "        indices_to_drop_dz.append(index)\n",
    "\n",
    "dz_cleaned = dz.drop(dz.columns[indices_to_drop_dz], axis=1)\n",
    "dz_cleaned.to_csv('data/dz_clean.csv', index=False)\n",
    "def dz_clean():\n",
    "    dz_clean = pd.read_csv(\"E:/Projects/white_dwarf_mass/data/dz_clean.csv\")\n",
    "    return dz_clean"
   ]
  },
  {
   "cell_type": "code",
   "execution_count": 113,
   "metadata": {},
   "outputs": [
    {
     "data": {
      "text/plain": [
       "(1300, 32)"
      ]
     },
     "execution_count": 113,
     "metadata": {},
     "output_type": "execute_result"
    }
   ],
   "source": [
    "dz_clean().shape"
   ]
  },
  {
   "cell_type": "markdown",
   "metadata": {},
   "source": [
    "FOR DAZ\n"
   ]
  },
  {
   "cell_type": "code",
   "execution_count": 114,
   "metadata": {},
   "outputs": [],
   "source": [
    "daz = pd.read_csv(\"E:/Projects/white_dwarf_mass/data/type_DAZ.csv\")"
   ]
  },
  {
   "cell_type": "code",
   "execution_count": 115,
   "metadata": {},
   "outputs": [
    {
     "data": {
      "text/plain": [
       "(423, 53)"
      ]
     },
     "execution_count": 115,
     "metadata": {},
     "output_type": "execute_result"
    }
   ],
   "source": [
    "daz.shape"
   ]
  },
  {
   "cell_type": "code",
   "execution_count": 116,
   "metadata": {},
   "outputs": [],
   "source": [
    "\n",
    "indices_to_drop_daz = []\n",
    "for index, column in enumerate(daz.columns):\n",
    "    if daz[column].isna().all():  # Check if the entire column is NaN\n",
    "        indices_to_drop_daz.append(index)\n",
    "\n",
    "daz_cleaned = daz.drop(daz.columns[indices_to_drop_daz], axis=1)\n",
    "daz_cleaned.to_csv('data/daz_clean.csv', index=False)\n",
    "def daz_clean():\n",
    "    daz_clean = pd.read_csv(\"E:/Projects/white_dwarf_mass/data/daz_clean.csv\")\n",
    "    return daz_clean"
   ]
  },
  {
   "cell_type": "code",
   "execution_count": 117,
   "metadata": {},
   "outputs": [
    {
     "data": {
      "text/plain": [
       "(423, 48)"
      ]
     },
     "execution_count": 117,
     "metadata": {},
     "output_type": "execute_result"
    }
   ],
   "source": [
    "daz_clean().shape"
   ]
  },
  {
   "cell_type": "markdown",
   "metadata": {},
   "source": [
    "FOR DBZ\n"
   ]
  },
  {
   "cell_type": "code",
   "execution_count": 118,
   "metadata": {},
   "outputs": [],
   "source": [
    "dbz = pd.read_csv(\"E:/Projects/white_dwarf_mass/data/type_DBZ.csv\")"
   ]
  },
  {
   "cell_type": "code",
   "execution_count": 119,
   "metadata": {},
   "outputs": [
    {
     "data": {
      "text/plain": [
       "(100, 53)"
      ]
     },
     "execution_count": 119,
     "metadata": {},
     "output_type": "execute_result"
    }
   ],
   "source": [
    "dbz.shape"
   ]
  },
  {
   "cell_type": "code",
   "execution_count": 120,
   "metadata": {},
   "outputs": [],
   "source": [
    "\n",
    "indices_to_drop_dbz = []\n",
    "for index, column in enumerate(dbz.columns):\n",
    "    if dbz[column].isna().all():  # Check if the entire column is NaN\n",
    "        indices_to_drop_dbz.append(index)\n",
    "\n",
    "dbz_cleaned = dbz.drop(dbz.columns[indices_to_drop_dbz], axis=1)\n",
    "dbz_cleaned.to_csv('data/dbz_clean.csv', index=False)\n",
    "def dbz_clean():\n",
    "    dbz_clean = pd.read_csv(\"E:/Projects/white_dwarf_mass/data/dbz_clean.csv\")\n",
    "    return dbz_clean"
   ]
  },
  {
   "cell_type": "code",
   "execution_count": 121,
   "metadata": {},
   "outputs": [
    {
     "data": {
      "text/plain": [
       "(100, 36)"
      ]
     },
     "execution_count": 121,
     "metadata": {},
     "output_type": "execute_result"
    }
   ],
   "source": [
    "dbz_clean().shape"
   ]
  },
  {
   "cell_type": "code",
   "execution_count": 122,
   "metadata": {},
   "outputs": [
    {
     "data": {
      "text/html": [
       "<div>\n",
       "<style scoped>\n",
       "    .dataframe tbody tr th:only-of-type {\n",
       "        vertical-align: middle;\n",
       "    }\n",
       "\n",
       "    .dataframe tbody tr th {\n",
       "        vertical-align: top;\n",
       "    }\n",
       "\n",
       "    .dataframe thead th {\n",
       "        text-align: right;\n",
       "    }\n",
       "</style>\n",
       "<table border=\"1\" class=\"dataframe\">\n",
       "  <thead>\n",
       "    <tr style=\"text-align: right;\">\n",
       "      <th></th>\n",
       "      <th>wdid</th>\n",
       "      <th>icrsra</th>\n",
       "      <th>icrsdec</th>\n",
       "      <th>spectype</th>\n",
       "      <th>teff</th>\n",
       "      <th>logg</th>\n",
       "      <th>mass</th>\n",
       "      <th>logL</th>\n",
       "      <th>age</th>\n",
       "      <th>loghhe</th>\n",
       "      <th>...</th>\n",
       "      <th>logcohe</th>\n",
       "      <th>lognihe</th>\n",
       "      <th>logcuhe</th>\n",
       "      <th>loggahe</th>\n",
       "      <th>loggehe</th>\n",
       "      <th>logsrhe</th>\n",
       "      <th>parallax</th>\n",
       "      <th>Dpc</th>\n",
       "      <th>comp</th>\n",
       "      <th>Mv</th>\n",
       "    </tr>\n",
       "  </thead>\n",
       "  <tbody>\n",
       "    <tr>\n",
       "      <th>0</th>\n",
       "      <td>2QZ J102807.8-013553</td>\n",
       "      <td>10 28 07.82</td>\n",
       "      <td>-01 35 53.09</td>\n",
       "      <td>DBZA</td>\n",
       "      <td>14644.0</td>\n",
       "      <td>8.6900</td>\n",
       "      <td>1.0240</td>\n",
       "      <td>NaN</td>\n",
       "      <td>0.287</td>\n",
       "      <td>-5.302</td>\n",
       "      <td>...</td>\n",
       "      <td>NaN</td>\n",
       "      <td>NaN</td>\n",
       "      <td>NaN</td>\n",
       "      <td>NaN</td>\n",
       "      <td>NaN</td>\n",
       "      <td>NaN</td>\n",
       "      <td>3.035860</td>\n",
       "      <td>329.40</td>\n",
       "      <td>He</td>\n",
       "      <td>NaN</td>\n",
       "    </tr>\n",
       "    <tr>\n",
       "      <th>1</th>\n",
       "      <td>2QZ J103257.4-024012</td>\n",
       "      <td>10 32 57.45</td>\n",
       "      <td>-02 40 11.47</td>\n",
       "      <td>DBZA</td>\n",
       "      <td>11010.0</td>\n",
       "      <td>8.6644</td>\n",
       "      <td>1.0087</td>\n",
       "      <td>NaN</td>\n",
       "      <td>1.530</td>\n",
       "      <td>-4.1189</td>\n",
       "      <td>...</td>\n",
       "      <td>NaN</td>\n",
       "      <td>NaN</td>\n",
       "      <td>NaN</td>\n",
       "      <td>NaN</td>\n",
       "      <td>NaN</td>\n",
       "      <td>NaN</td>\n",
       "      <td>2.998336</td>\n",
       "      <td>333.52</td>\n",
       "      <td>He</td>\n",
       "      <td>NaN</td>\n",
       "    </tr>\n",
       "    <tr>\n",
       "      <th>2</th>\n",
       "      <td>CBS 78</td>\n",
       "      <td>08 41 55.08</td>\n",
       "      <td>37 23 11.43</td>\n",
       "      <td>DBZ</td>\n",
       "      <td>13806.0</td>\n",
       "      <td>8.1900</td>\n",
       "      <td>0.7040</td>\n",
       "      <td>-2.6</td>\n",
       "      <td>0.345</td>\n",
       "      <td>&lt;-6.521</td>\n",
       "      <td>...</td>\n",
       "      <td>NaN</td>\n",
       "      <td>NaN</td>\n",
       "      <td>NaN</td>\n",
       "      <td>NaN</td>\n",
       "      <td>NaN</td>\n",
       "      <td>NaN</td>\n",
       "      <td>5.869417</td>\n",
       "      <td>170.37</td>\n",
       "      <td>He</td>\n",
       "      <td>12.39</td>\n",
       "    </tr>\n",
       "    <tr>\n",
       "      <th>3</th>\n",
       "      <td>GALEX 2419490867580507837</td>\n",
       "      <td>07 43 47.84</td>\n",
       "      <td>42 40 23.54</td>\n",
       "      <td>DBZ</td>\n",
       "      <td>16667.0</td>\n",
       "      <td>9.4300</td>\n",
       "      <td>1.3330</td>\n",
       "      <td>NaN</td>\n",
       "      <td>0.248</td>\n",
       "      <td>-5.21</td>\n",
       "      <td>...</td>\n",
       "      <td>NaN</td>\n",
       "      <td>NaN</td>\n",
       "      <td>NaN</td>\n",
       "      <td>NaN</td>\n",
       "      <td>NaN</td>\n",
       "      <td>NaN</td>\n",
       "      <td>2.309300</td>\n",
       "      <td>433.03</td>\n",
       "      <td>He</td>\n",
       "      <td>NaN</td>\n",
       "    </tr>\n",
       "    <tr>\n",
       "      <th>4</th>\n",
       "      <td>GALEX 2665121662146448800</td>\n",
       "      <td>23 48 52.64</td>\n",
       "      <td>13 41 41.24</td>\n",
       "      <td>DBZA</td>\n",
       "      <td>11065.0</td>\n",
       "      <td>7.4229</td>\n",
       "      <td>0.3137</td>\n",
       "      <td>NaN</td>\n",
       "      <td>0.264</td>\n",
       "      <td>-3.9633</td>\n",
       "      <td>...</td>\n",
       "      <td>NaN</td>\n",
       "      <td>NaN</td>\n",
       "      <td>NaN</td>\n",
       "      <td>NaN</td>\n",
       "      <td>NaN</td>\n",
       "      <td>NaN</td>\n",
       "      <td>3.242064</td>\n",
       "      <td>308.45</td>\n",
       "      <td>He</td>\n",
       "      <td>NaN</td>\n",
       "    </tr>\n",
       "  </tbody>\n",
       "</table>\n",
       "<p>5 rows × 36 columns</p>\n",
       "</div>"
      ],
      "text/plain": [
       "                        wdid       icrsra       icrsdec spectype     teff  \\\n",
       "0       2QZ J102807.8-013553  10 28 07.82  -01 35 53.09     DBZA  14644.0   \n",
       "1       2QZ J103257.4-024012  10 32 57.45  -02 40 11.47     DBZA  11010.0   \n",
       "2                     CBS 78  08 41 55.08   37 23 11.43      DBZ  13806.0   \n",
       "3  GALEX 2419490867580507837  07 43 47.84   42 40 23.54      DBZ  16667.0   \n",
       "4  GALEX 2665121662146448800  23 48 52.64   13 41 41.24     DBZA  11065.0   \n",
       "\n",
       "     logg    mass  logL    age   loghhe  ... logcohe lognihe logcuhe  loggahe  \\\n",
       "0  8.6900  1.0240   NaN  0.287   -5.302  ...     NaN     NaN     NaN      NaN   \n",
       "1  8.6644  1.0087   NaN  1.530  -4.1189  ...     NaN     NaN     NaN      NaN   \n",
       "2  8.1900  0.7040  -2.6  0.345  <-6.521  ...     NaN     NaN     NaN      NaN   \n",
       "3  9.4300  1.3330   NaN  0.248    -5.21  ...     NaN     NaN     NaN      NaN   \n",
       "4  7.4229  0.3137   NaN  0.264  -3.9633  ...     NaN     NaN     NaN      NaN   \n",
       "\n",
       "  loggehe  logsrhe  parallax     Dpc comp     Mv  \n",
       "0     NaN      NaN  3.035860  329.40   He    NaN  \n",
       "1     NaN      NaN  2.998336  333.52   He    NaN  \n",
       "2     NaN      NaN  5.869417  170.37   He  12.39  \n",
       "3     NaN      NaN  2.309300  433.03   He    NaN  \n",
       "4     NaN      NaN  3.242064  308.45   He    NaN  \n",
       "\n",
       "[5 rows x 36 columns]"
      ]
     },
     "execution_count": 122,
     "metadata": {},
     "output_type": "execute_result"
    }
   ],
   "source": [
    "dbz_clean().head()"
   ]
  }
 ],
 "metadata": {
  "kernelspec": {
   "display_name": "white_dwarfs",
   "language": "python",
   "name": "python3"
  },
  "language_info": {
   "codemirror_mode": {
    "name": "ipython",
    "version": 3
   },
   "file_extension": ".py",
   "mimetype": "text/x-python",
   "name": "python",
   "nbconvert_exporter": "python",
   "pygments_lexer": "ipython3",
   "version": "3.9.19"
  }
 },
 "nbformat": 4,
 "nbformat_minor": 2
}
