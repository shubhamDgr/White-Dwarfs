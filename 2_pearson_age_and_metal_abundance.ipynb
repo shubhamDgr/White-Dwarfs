{
 "cells": [
  {
   "cell_type": "code",
   "execution_count": 7,
   "metadata": {},
   "outputs": [],
   "source": [
    "import seaborn as sns\n",
    "import matplotlib.pyplot as plt\n",
    "import pandas as pd\n",
    "from data_clean import dz_clean, daz_clean, dbz_clean\n",
    "from scipy.stats import pearsonr\n",
    "import numpy as np"
   ]
  },
  {
   "cell_type": "code",
   "execution_count": 8,
   "metadata": {},
   "outputs": [],
   "source": [
    "clean_data_functions_dict = {0 :dz_clean(),\n",
    "                             1 :daz_clean(),\n",
    "                             2 :dbz_clean()}\n",
    "clean_data_names_dict = {0 :\"DZ White Dwarfs\",\n",
    "                         1 :\"DAZ White Dwarfs\",\n",
    "                         2 :\"DBZ White Dwarfs\"}\n",
    "significant_metals_for_each_type = {0 :[\"logcahe\",\"logmghe\"],                   # These are the only metals which show significant correlation with mass as per the results obtained above. So we will analyze them further\n",
    "                                    1 :\"lognih\",\n",
    "                                    2 :\"logcahe\"}\n"
   ]
  },
  {
   "cell_type": "markdown",
   "metadata": {},
   "source": [
    "PEARSON CORRELATION BETWEEN \"AGE\" AND \"METAL ABUNBDANCE\" OF SIGNIFICANT METALS"
   ]
  },
  {
   "cell_type": "markdown",
   "metadata": {},
   "source": [
    "Now we will create the function \"significant_metals_correlation_with_age()\" to find the correlation values of \"Significant Metals\" that we got previously and \"Age of white dwarfs\""
   ]
  },
  {
   "cell_type": "code",
   "execution_count": 9,
   "metadata": {},
   "outputs": [
    {
     "name": "stdout",
     "output_type": "stream",
     "text": [
      "For logcahe and age parameter :Pearson correlation: -0.023251117658216358, P-value: 0.4558065593766567\n",
      "For logmghe and age parameter :Pearson correlation: -0.26597142781852084, P-value: 3.106213859166333e-05\n",
      "For lognih and age parameter :Pearson correlation: -0.8477724769453245, P-value: 0.3558865336783016\n",
      "For logcahe and age parameter :Pearson correlation: -0.16590985868729785, P-value: 0.13387427121263862\n"
     ]
    }
   ],
   "source": [
    "for i in range(len(clean_data_functions_dict)):\n",
    "    if isinstance(significant_metals_for_each_type.get(i),list):\n",
    "        for j in range(len(significant_metals_for_each_type.get(i))):\n",
    "            def significant_metals_correlation_with_age():\n",
    "            \n",
    "                drop_NaN_values =clean_data_functions_dict.get(i).loc[:,[\"age\",significant_metals_for_each_type.get(i)[j]]].dropna(axis=0)\n",
    "                drop_NaN_values[\"age\"] = pd.to_numeric(drop_NaN_values[\"age\"], errors='coerce')                                                                       # Convert both columns to numeric values,so non-numeric values like \"<4.876\" etc get converted into NaN\n",
    "                drop_NaN_values[significant_metals_for_each_type.get(i)[j]] = pd.to_numeric(drop_NaN_values[significant_metals_for_each_type.get(i)[j]], errors='coerce')\n",
    "                drop_NaN_values_again = drop_NaN_values.dropna(axis=0) \n",
    "                return drop_NaN_values_again\n",
    "            if len(significant_metals_correlation_with_age()) < 2:                               # To not consider the faulty data\n",
    "                print(f\"Not enough data for column {significant_metals_for_each_type.get(i)[j]}\")\n",
    "                continue\n",
    "            correlation_age, p_value_age = pearsonr(significant_metals_correlation_with_age()[\"age\"], significant_metals_correlation_with_age()[significant_metals_for_each_type.get(i)[j]])\n",
    "            print(f\"For {significant_metals_for_each_type.get(i)[j]} and age parameter :Pearson correlation: {correlation_age}, P-value: {p_value_age}\")\n",
    "\n",
    "    elif isinstance(significant_metals_for_each_type.get(i),str):\n",
    "        def significant_metals_correlation_with_age():\n",
    "            drop_NaN_values =clean_data_functions_dict.get(i).loc[:,[\"age\",significant_metals_for_each_type.get(i)]].dropna(axis=0)\n",
    "            drop_NaN_values[\"age\"] = pd.to_numeric(drop_NaN_values[\"age\"], errors='coerce')  \n",
    "            drop_NaN_values[significant_metals_for_each_type.get(i)] = pd.to_numeric(drop_NaN_values[significant_metals_for_each_type.get(i)], errors='coerce')\n",
    "            drop_NaN_values_again = drop_NaN_values.dropna(axis=0) \n",
    "            return drop_NaN_values_again\n",
    "        if len(significant_metals_correlation_with_age()) < 2:                               # To not consider the faulty data\n",
    "            print(f\"Not enough data for column {significant_metals_for_each_type.get(i)}\")\n",
    "            continue\n",
    "        correlation_age, p_value_age = pearsonr(significant_metals_correlation_with_age()[\"age\"], significant_metals_correlation_with_age()[significant_metals_for_each_type.get(i)])\n",
    "        print(f\"For {significant_metals_for_each_type.get(i)} and age parameter :Pearson correlation: {correlation_age}, P-value: {p_value_age}\")\n",
    "\n"
   ]
  }
 ],
 "metadata": {
  "kernelspec": {
   "display_name": "white_dwarfs",
   "language": "python",
   "name": "python3"
  },
  "language_info": {
   "codemirror_mode": {
    "name": "ipython",
    "version": 3
   },
   "file_extension": ".py",
   "mimetype": "text/x-python",
   "name": "python",
   "nbconvert_exporter": "python",
   "pygments_lexer": "ipython3",
   "version": "3.9.19"
  }
 },
 "nbformat": 4,
 "nbformat_minor": 2
}
